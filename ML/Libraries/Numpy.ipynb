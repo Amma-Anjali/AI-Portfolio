{
 "cells": [
  {
   "cell_type": "code",
   "execution_count": 1,
   "id": "f2088ea5",
   "metadata": {},
   "outputs": [],
   "source": [
    "# Fast\n",
    "# Becoz behind the scenes optimizations written in C\n",
    "# Vectorization via broadcasting (avoiding loops) "
   ]
  },
  {
   "cell_type": "markdown",
   "id": "bff66a4f",
   "metadata": {},
   "source": [
    "# DataTypes & Attributes"
   ]
  },
  {
   "cell_type": "code",
   "execution_count": 1,
   "id": "fc6e100e",
   "metadata": {},
   "outputs": [],
   "source": [
    "import numpy as np"
   ]
  },
  {
   "cell_type": "code",
   "execution_count": 2,
   "id": "9cbd63b5",
   "metadata": {},
   "outputs": [
    {
     "data": {
      "text/plain": [
       "array([1, 2, 3])"
      ]
     },
     "execution_count": 2,
     "metadata": {},
     "output_type": "execute_result"
    }
   ],
   "source": [
    "# numpy's main datatype is ndarray\n",
    "a1 = np.array([1, 2, 3])\n",
    "a1"
   ]
  },
  {
   "cell_type": "code",
   "execution_count": 3,
   "id": "aa40b8ab",
   "metadata": {},
   "outputs": [
    {
     "data": {
      "text/plain": [
       "numpy.ndarray"
      ]
     },
     "execution_count": 3,
     "metadata": {},
     "output_type": "execute_result"
    }
   ],
   "source": [
    "type(a1)"
   ]
  },
  {
   "cell_type": "code",
   "execution_count": 4,
   "id": "3c463f30",
   "metadata": {},
   "outputs": [
    {
     "data": {
      "text/plain": [
       "array([[1, 2, 3],\n",
       "       [4, 5, 6]])"
      ]
     },
     "execution_count": 4,
     "metadata": {},
     "output_type": "execute_result"
    }
   ],
   "source": [
    "a2 = np.array([[1, 2, 3],\n",
    "             [4, 5, 6]])\n",
    "a2"
   ]
  },
  {
   "cell_type": "code",
   "execution_count": 5,
   "id": "040548d5",
   "metadata": {},
   "outputs": [
    {
     "data": {
      "text/plain": [
       "array([[[ 1,  2,  3],\n",
       "        [ 4,  5,  6],\n",
       "        [ 7,  8,  9]],\n",
       "\n",
       "       [[12, 22, 34],\n",
       "        [42, 52, 62],\n",
       "        [72, 82, 92]]])"
      ]
     },
     "execution_count": 5,
     "metadata": {},
     "output_type": "execute_result"
    }
   ],
   "source": [
    "a3 = np.array([[[1, 2, 3],\n",
    "               [4, 5, 6],\n",
    "               [7, 8, 9]],\n",
    "              [[12, 22, 34],\n",
    "              [42, 52, 62],\n",
    "              [72, 82, 92]]])\n",
    "\n",
    "a3"
   ]
  },
  {
   "cell_type": "code",
   "execution_count": 6,
   "id": "2677fbbf",
   "metadata": {},
   "outputs": [
    {
     "data": {
      "text/plain": [
       "(3,)"
      ]
     },
     "execution_count": 6,
     "metadata": {},
     "output_type": "execute_result"
    }
   ],
   "source": [
    "a1.shape"
   ]
  },
  {
   "cell_type": "code",
   "execution_count": 7,
   "id": "80ad737d",
   "metadata": {},
   "outputs": [
    {
     "data": {
      "text/plain": [
       "(2, 3)"
      ]
     },
     "execution_count": 7,
     "metadata": {},
     "output_type": "execute_result"
    }
   ],
   "source": [
    "a2.shape"
   ]
  },
  {
   "cell_type": "code",
   "execution_count": 8,
   "id": "1e46b36b",
   "metadata": {},
   "outputs": [
    {
     "data": {
      "text/plain": [
       "(2, 3, 3)"
      ]
     },
     "execution_count": 8,
     "metadata": {},
     "output_type": "execute_result"
    }
   ],
   "source": [
    "a3.shape"
   ]
  },
  {
   "cell_type": "code",
   "execution_count": 9,
   "id": "fcb08bf0",
   "metadata": {},
   "outputs": [
    {
     "data": {
      "text/plain": [
       "(1, 2, 3)"
      ]
     },
     "execution_count": 9,
     "metadata": {},
     "output_type": "execute_result"
    }
   ],
   "source": [
    "# Shows the dimension\n",
    "a1.ndim, a2.ndim, a3.ndim"
   ]
  },
  {
   "cell_type": "code",
   "execution_count": 10,
   "id": "d03eb44f",
   "metadata": {},
   "outputs": [
    {
     "data": {
      "text/plain": [
       "(dtype('int32'), dtype('int32'), dtype('int32'))"
      ]
     },
     "execution_count": 10,
     "metadata": {},
     "output_type": "execute_result"
    }
   ],
   "source": [
    "# dtype = Datatype int or float or ?\n",
    "a1.dtype, a2.dtype, a3.dtype"
   ]
  },
  {
   "cell_type": "code",
   "execution_count": 11,
   "id": "04a85530",
   "metadata": {},
   "outputs": [
    {
     "data": {
      "text/plain": [
       "(3, 6, 18)"
      ]
     },
     "execution_count": 11,
     "metadata": {},
     "output_type": "execute_result"
    }
   ],
   "source": [
    "# size = no.of elements in the array\n",
    "a1.size, a2.size, a3.size"
   ]
  },
  {
   "cell_type": "code",
   "execution_count": 12,
   "id": "9cbb0624",
   "metadata": {
    "scrolled": true
   },
   "outputs": [
    {
     "data": {
      "text/plain": [
       "(numpy.ndarray, numpy.ndarray, numpy.ndarray)"
      ]
     },
     "execution_count": 12,
     "metadata": {},
     "output_type": "execute_result"
    }
   ],
   "source": [
    "# type = what type it is ndarray or ?\n",
    "\n",
    "type(a1), type(a2), type(a3)"
   ]
  },
  {
   "cell_type": "code",
   "execution_count": 13,
   "id": "30b6a7e2",
   "metadata": {},
   "outputs": [
    {
     "data": {
      "text/plain": [
       "array([[1, 2, 3],\n",
       "       [4, 5, 6]])"
      ]
     },
     "execution_count": 13,
     "metadata": {},
     "output_type": "execute_result"
    }
   ],
   "source": [
    "a2"
   ]
  },
  {
   "cell_type": "code",
   "execution_count": 14,
   "id": "8888e933",
   "metadata": {},
   "outputs": [
    {
     "data": {
      "text/html": [
       "<div>\n",
       "<style scoped>\n",
       "    .dataframe tbody tr th:only-of-type {\n",
       "        vertical-align: middle;\n",
       "    }\n",
       "\n",
       "    .dataframe tbody tr th {\n",
       "        vertical-align: top;\n",
       "    }\n",
       "\n",
       "    .dataframe thead th {\n",
       "        text-align: right;\n",
       "    }\n",
       "</style>\n",
       "<table border=\"1\" class=\"dataframe\">\n",
       "  <thead>\n",
       "    <tr style=\"text-align: right;\">\n",
       "      <th></th>\n",
       "      <th>0</th>\n",
       "      <th>1</th>\n",
       "      <th>2</th>\n",
       "    </tr>\n",
       "  </thead>\n",
       "  <tbody>\n",
       "    <tr>\n",
       "      <th>0</th>\n",
       "      <td>1</td>\n",
       "      <td>2</td>\n",
       "      <td>3</td>\n",
       "    </tr>\n",
       "    <tr>\n",
       "      <th>1</th>\n",
       "      <td>4</td>\n",
       "      <td>5</td>\n",
       "      <td>6</td>\n",
       "    </tr>\n",
       "  </tbody>\n",
       "</table>\n",
       "</div>"
      ],
      "text/plain": [
       "   0  1  2\n",
       "0  1  2  3\n",
       "1  4  5  6"
      ]
     },
     "execution_count": 14,
     "metadata": {},
     "output_type": "execute_result"
    }
   ],
   "source": [
    "# Create a Dataframe from a numpy array\n",
    "import pandas as pd\n",
    "\n",
    "df = pd.DataFrame(a2)\n",
    "df"
   ]
  },
  {
   "cell_type": "markdown",
   "id": "53691d0d",
   "metadata": {},
   "source": [
    "# 2.Creating arrays"
   ]
  },
  {
   "cell_type": "code",
   "execution_count": 15,
   "id": "2d59f0cf",
   "metadata": {},
   "outputs": [
    {
     "data": {
      "text/plain": [
       "array([1, 2, 3])"
      ]
     },
     "execution_count": 15,
     "metadata": {},
     "output_type": "execute_result"
    }
   ],
   "source": [
    "sample_array = np.array([1, 2, 3])\n",
    "sample_array"
   ]
  },
  {
   "cell_type": "code",
   "execution_count": 16,
   "id": "da2eebe5",
   "metadata": {},
   "outputs": [
    {
     "data": {
      "text/plain": [
       "dtype('int32')"
      ]
     },
     "execution_count": 16,
     "metadata": {},
     "output_type": "execute_result"
    }
   ],
   "source": [
    "sample_array.dtype"
   ]
  },
  {
   "cell_type": "code",
   "execution_count": 17,
   "id": "9bbaf05a",
   "metadata": {},
   "outputs": [
    {
     "data": {
      "text/plain": [
       "array([[1., 1., 1.],\n",
       "       [1., 1., 1.]])"
      ]
     },
     "execution_count": 17,
     "metadata": {},
     "output_type": "execute_result"
    }
   ],
   "source": [
    "# Array filled with ones\n",
    "ones = np.ones((2, 3))\n",
    "ones"
   ]
  },
  {
   "cell_type": "code",
   "execution_count": 18,
   "id": "27729e2f",
   "metadata": {},
   "outputs": [
    {
     "data": {
      "text/plain": [
       "array([[0., 0., 0.],\n",
       "       [0., 0., 0.]])"
      ]
     },
     "execution_count": 18,
     "metadata": {},
     "output_type": "execute_result"
    }
   ],
   "source": [
    "# Array filled with zeroes\n",
    "zeros = np.zeros((2, 3))\n",
    "zeros"
   ]
  },
  {
   "cell_type": "code",
   "execution_count": 19,
   "id": "ca9053d0",
   "metadata": {},
   "outputs": [
    {
     "data": {
      "text/plain": [
       "array([ 0,  5, 10, 15, 20, 25, 30, 35, 40, 45])"
      ]
     },
     "execution_count": 19,
     "metadata": {},
     "output_type": "execute_result"
    }
   ],
   "source": [
    "range_array = np.arange(0, 50, 5) # Shift and tab\n",
    "range_array"
   ]
  },
  {
   "cell_type": "code",
   "execution_count": 20,
   "id": "183f3ab5",
   "metadata": {},
   "outputs": [
    {
     "data": {
      "text/plain": [
       "array([[21, 20, 25, 14, 24],\n",
       "       [ 7,  4,  8, 28, 19]])"
      ]
     },
     "execution_count": 20,
     "metadata": {},
     "output_type": "execute_result"
    }
   ],
   "source": [
    "random_array = np.random.randint(1, 30, size = (2, 5))  # returns elements from low = 1 to high = 30 of 2 rows and 5 columns\n",
    "random_array"
   ]
  },
  {
   "cell_type": "code",
   "execution_count": 21,
   "id": "ba08301e",
   "metadata": {},
   "outputs": [
    {
     "data": {
      "text/plain": [
       "10"
      ]
     },
     "execution_count": 21,
     "metadata": {},
     "output_type": "execute_result"
    }
   ],
   "source": [
    "random_array.size"
   ]
  },
  {
   "cell_type": "code",
   "execution_count": 22,
   "id": "98361766",
   "metadata": {},
   "outputs": [
    {
     "data": {
      "text/plain": [
       "(2, 5)"
      ]
     },
     "execution_count": 22,
     "metadata": {},
     "output_type": "execute_result"
    }
   ],
   "source": [
    "random_array.shape"
   ]
  },
  {
   "cell_type": "code",
   "execution_count": 23,
   "id": "454d2956",
   "metadata": {},
   "outputs": [
    {
     "data": {
      "text/plain": [
       "array([[0.76015815, 0.37564707],\n",
       "       [0.44001522, 0.94885278],\n",
       "       [0.65523783, 0.46638176],\n",
       "       [0.22037882, 0.54518312],\n",
       "       [0.79794637, 0.18020041]])"
      ]
     },
     "execution_count": 23,
     "metadata": {},
     "output_type": "execute_result"
    }
   ],
   "source": [
    "# Return random floats in the half-open interval [0.0, 1.0]\n",
    "random_array2 = np.random.random((5, 2))\n",
    "random_array2"
   ]
  },
  {
   "cell_type": "code",
   "execution_count": 24,
   "id": "895dafe0",
   "metadata": {},
   "outputs": [
    {
     "data": {
      "text/plain": [
       "(5, 2)"
      ]
     },
     "execution_count": 24,
     "metadata": {},
     "output_type": "execute_result"
    }
   ],
   "source": [
    "random_array2.shape"
   ]
  },
  {
   "cell_type": "code",
   "execution_count": 25,
   "id": "5ad03ac9",
   "metadata": {},
   "outputs": [
    {
     "data": {
      "text/plain": [
       "0.2062776694568097"
      ]
     },
     "execution_count": 25,
     "metadata": {},
     "output_type": "execute_result"
    }
   ],
   "source": [
    "random_array3 = np.random.rand()\n",
    "random_array3"
   ]
  },
  {
   "cell_type": "code",
   "execution_count": 26,
   "id": "f4526013",
   "metadata": {},
   "outputs": [
    {
     "data": {
      "text/plain": [
       "array([[5, 0, 3],\n",
       "       [3, 7, 9],\n",
       "       [3, 5, 2],\n",
       "       [4, 7, 6],\n",
       "       [8, 8, 1]])"
      ]
     },
     "execution_count": 26,
     "metadata": {},
     "output_type": "execute_result"
    }
   ],
   "source": [
    "# pseudo-randam numbers\n",
    "np.random.seed(seed = 0) # Stops the numbers from changing (Works no matter what seed is)\n",
    "\n",
    "random_array_4 = np.random.randint(10, size = (5, 3)) # changes numbers\n",
    "random_array_4"
   ]
  },
  {
   "cell_type": "code",
   "execution_count": 27,
   "id": "3e4051d9",
   "metadata": {},
   "outputs": [
    {
     "data": {
      "text/plain": [
       "(5, 3)"
      ]
     },
     "execution_count": 27,
     "metadata": {},
     "output_type": "execute_result"
    }
   ],
   "source": [
    "random_array_4.shape"
   ]
  },
  {
   "cell_type": "code",
   "execution_count": 28,
   "id": "4c4ce3da",
   "metadata": {},
   "outputs": [
    {
     "data": {
      "text/plain": [
       "array([[0.07630829, 0.77991879],\n",
       "       [0.43840923, 0.72346518],\n",
       "       [0.97798951, 0.53849587],\n",
       "       [0.50112046, 0.07205113],\n",
       "       [0.26843898, 0.4998825 ]])"
      ]
     },
     "execution_count": 28,
     "metadata": {},
     "output_type": "execute_result"
    }
   ],
   "source": [
    "np.random.seed(7)\n",
    "random_array_5 = np.random.random((5, 2))\n",
    "random_array_5"
   ]
  },
  {
   "cell_type": "markdown",
   "id": "d1d11fa6",
   "metadata": {},
   "source": [
    "# 3.Viewing arrays and matrices"
   ]
  },
  {
   "cell_type": "code",
   "execution_count": 29,
   "id": "af0c32cb",
   "metadata": {},
   "outputs": [
    {
     "data": {
      "text/plain": [
       "array([0, 1, 2, 3, 4, 5, 6, 7, 8, 9])"
      ]
     },
     "execution_count": 29,
     "metadata": {},
     "output_type": "execute_result"
    }
   ],
   "source": [
    "np.unique(random_array_4)"
   ]
  },
  {
   "cell_type": "code",
   "execution_count": 30,
   "id": "9011bf3e",
   "metadata": {},
   "outputs": [
    {
     "data": {
      "text/plain": [
       "array([0.07630829, 0.77991879])"
      ]
     },
     "execution_count": 30,
     "metadata": {},
     "output_type": "execute_result"
    }
   ],
   "source": [
    "# Indexes\n",
    "random_array_5[0] # 0th row"
   ]
  },
  {
   "cell_type": "code",
   "execution_count": 31,
   "id": "9888e6b2",
   "metadata": {},
   "outputs": [
    {
     "data": {
      "text/plain": [
       "0.7799187922401146"
      ]
     },
     "execution_count": 31,
     "metadata": {},
     "output_type": "execute_result"
    }
   ],
   "source": [
    "# 0th row and 0th column\n",
    "random_array_5[0, 1]"
   ]
  },
  {
   "cell_type": "code",
   "execution_count": 32,
   "id": "b409c7b4",
   "metadata": {},
   "outputs": [
    {
     "data": {
      "text/plain": [
       "array([[[ 1,  2],\n",
       "        [ 4,  5]],\n",
       "\n",
       "       [[12, 22],\n",
       "        [42, 52]]])"
      ]
     },
     "execution_count": 32,
     "metadata": {},
     "output_type": "execute_result"
    }
   ],
   "source": [
    "a3[:2, :2 ,:2]"
   ]
  },
  {
   "cell_type": "code",
   "execution_count": 33,
   "id": "b115a723",
   "metadata": {},
   "outputs": [
    {
     "data": {
      "text/plain": [
       "array([[[ 1,  2,  3],\n",
       "        [ 4,  5,  6],\n",
       "        [ 7,  8,  9]],\n",
       "\n",
       "       [[12, 22, 34],\n",
       "        [42, 52, 62],\n",
       "        [72, 82, 92]],\n",
       "\n",
       "       [[ 1,  2,  4],\n",
       "        [ 6,  2,  8],\n",
       "        [ 7,  1,  9]]])"
      ]
     },
     "execution_count": 33,
     "metadata": {},
     "output_type": "execute_result"
    }
   ],
   "source": [
    "a4 = np.array([[[ 1,  2,  3],\n",
    "        [ 4,  5,  6],\n",
    "        [ 7,  8,  9]],\n",
    "\n",
    "       [[12, 22, 34],\n",
    "        [42, 52, 62],\n",
    "        [72, 82, 92]],\n",
    "              \n",
    "        [[1, 2, 4],\n",
    "        [6, 2, 8],\n",
    "        [7, 1, 9]]])\n",
    "a4"
   ]
  },
  {
   "cell_type": "code",
   "execution_count": 34,
   "id": "82be8ed2",
   "metadata": {},
   "outputs": [],
   "source": [
    "# 1st = select 2 blocks from all blocks (0th and 1st)\n",
    "# 2nd = select 2 row (0 and 1 index)\n",
    "# 3rd = select 2 columns(0 and 1)"
   ]
  },
  {
   "cell_type": "code",
   "execution_count": 35,
   "id": "50540988",
   "metadata": {},
   "outputs": [
    {
     "data": {
      "text/plain": [
       "array([[[ 1,  2],\n",
       "        [ 4,  5]],\n",
       "\n",
       "       [[12, 22],\n",
       "        [42, 52]]])"
      ]
     },
     "execution_count": 35,
     "metadata": {},
     "output_type": "execute_result"
    }
   ],
   "source": [
    "a4[:2, :2, :2]"
   ]
  },
  {
   "cell_type": "code",
   "execution_count": 36,
   "id": "f604279a",
   "metadata": {},
   "outputs": [
    {
     "data": {
      "text/plain": [
       "array([[[[4, 0, 7, 0, 7],\n",
       "         [6, 3, 5, 8, 8],\n",
       "         [7, 5, 0, 0, 2],\n",
       "         [8, 9, 6, 4, 9]],\n",
       "\n",
       "        [[7, 3, 3, 8, 3],\n",
       "         [0, 1, 0, 0, 6],\n",
       "         [7, 7, 9, 3, 0],\n",
       "         [7, 7, 7, 0, 5]],\n",
       "\n",
       "        [[4, 3, 1, 3, 1],\n",
       "         [3, 4, 3, 1, 9],\n",
       "         [5, 9, 1, 2, 3],\n",
       "         [2, 2, 5, 7, 3]]],\n",
       "\n",
       "\n",
       "       [[[0, 9, 9, 3, 4],\n",
       "         [5, 3, 0, 4, 8],\n",
       "         [6, 7, 2, 7, 3],\n",
       "         [8, 6, 6, 5, 6]],\n",
       "\n",
       "        [[5, 7, 1, 5, 4],\n",
       "         [4, 9, 9, 0, 6],\n",
       "         [2, 6, 8, 2, 4],\n",
       "         [1, 6, 1, 5, 1]],\n",
       "\n",
       "        [[6, 9, 8, 6, 5],\n",
       "         [9, 7, 5, 4, 9],\n",
       "         [6, 8, 1, 5, 5],\n",
       "         [8, 3, 7, 7, 9]]]])"
      ]
     },
     "execution_count": 36,
     "metadata": {},
     "output_type": "execute_result"
    }
   ],
   "source": [
    "a5 = np.random.randint(10, size = (2, 3, 4, 5))\n",
    "a5"
   ]
  },
  {
   "cell_type": "code",
   "execution_count": 37,
   "id": "9ba68ef8",
   "metadata": {},
   "outputs": [
    {
     "data": {
      "text/plain": [
       "((2, 3, 4, 5), 3)"
      ]
     },
     "execution_count": 37,
     "metadata": {},
     "output_type": "execute_result"
    }
   ],
   "source": [
    "a5.shape, a4.ndim"
   ]
  },
  {
   "cell_type": "code",
   "execution_count": 38,
   "id": "22f26773",
   "metadata": {},
   "outputs": [
    {
     "data": {
      "text/plain": [
       "array([[[[4],\n",
       "         [6],\n",
       "         [7],\n",
       "         [8]],\n",
       "\n",
       "        [[7],\n",
       "         [0],\n",
       "         [7],\n",
       "         [7]],\n",
       "\n",
       "        [[4],\n",
       "         [3],\n",
       "         [5],\n",
       "         [2]]],\n",
       "\n",
       "\n",
       "       [[[0],\n",
       "         [5],\n",
       "         [6],\n",
       "         [8]],\n",
       "\n",
       "        [[5],\n",
       "         [4],\n",
       "         [2],\n",
       "         [1]],\n",
       "\n",
       "        [[6],\n",
       "         [9],\n",
       "         [6],\n",
       "         [8]]]])"
      ]
     },
     "execution_count": 38,
     "metadata": {},
     "output_type": "execute_result"
    }
   ],
   "source": [
    "# Get first 4 numbers of the inner most arrays\n",
    "a5[:, :, :, :1]"
   ]
  },
  {
   "cell_type": "markdown",
   "id": "dd52fa0a",
   "metadata": {},
   "source": [
    "# 4.Manipulating & comparing arrays"
   ]
  },
  {
   "cell_type": "markdown",
   "id": "932bffb6",
   "metadata": {},
   "source": [
    "## Arithmetic"
   ]
  },
  {
   "cell_type": "code",
   "execution_count": 39,
   "id": "34572ea0",
   "metadata": {},
   "outputs": [
    {
     "data": {
      "text/plain": [
       "[1, 2, 4]"
      ]
     },
     "execution_count": 39,
     "metadata": {},
     "output_type": "execute_result"
    }
   ],
   "source": [
    "a1 = [1, 2, 4]\n",
    "a1"
   ]
  },
  {
   "cell_type": "code",
   "execution_count": 40,
   "id": "3d5517f9",
   "metadata": {},
   "outputs": [
    {
     "data": {
      "text/plain": [
       "array([1., 1., 1.])"
      ]
     },
     "execution_count": 40,
     "metadata": {},
     "output_type": "execute_result"
    }
   ],
   "source": [
    "ones = np.ones(3)\n",
    "ones"
   ]
  },
  {
   "cell_type": "code",
   "execution_count": 41,
   "id": "8fea980e",
   "metadata": {},
   "outputs": [
    {
     "data": {
      "text/plain": [
       "array([2., 3., 5.])"
      ]
     },
     "execution_count": 41,
     "metadata": {},
     "output_type": "execute_result"
    }
   ],
   "source": [
    "a1 + ones"
   ]
  },
  {
   "cell_type": "code",
   "execution_count": 42,
   "id": "358b9baf",
   "metadata": {},
   "outputs": [
    {
     "data": {
      "text/plain": [
       "array([0., 1., 3.])"
      ]
     },
     "execution_count": 42,
     "metadata": {},
     "output_type": "execute_result"
    }
   ],
   "source": [
    "a1 - ones"
   ]
  },
  {
   "cell_type": "code",
   "execution_count": 43,
   "id": "79e7decf",
   "metadata": {},
   "outputs": [
    {
     "data": {
      "text/plain": [
       "array([1., 2., 4.])"
      ]
     },
     "execution_count": 43,
     "metadata": {},
     "output_type": "execute_result"
    }
   ],
   "source": [
    "a1 * ones"
   ]
  },
  {
   "cell_type": "code",
   "execution_count": 44,
   "id": "51c3be47",
   "metadata": {},
   "outputs": [
    {
     "data": {
      "text/plain": [
       "array([[1, 2, 3],\n",
       "       [4, 5, 6]])"
      ]
     },
     "execution_count": 44,
     "metadata": {},
     "output_type": "execute_result"
    }
   ],
   "source": [
    "a2"
   ]
  },
  {
   "cell_type": "code",
   "execution_count": 45,
   "id": "6b89da49",
   "metadata": {},
   "outputs": [
    {
     "data": {
      "text/plain": [
       "array([[ 1,  4, 12],\n",
       "       [ 4, 10, 24]])"
      ]
     },
     "execution_count": 45,
     "metadata": {},
     "output_type": "execute_result"
    }
   ],
   "source": [
    "a1 * a2"
   ]
  },
  {
   "cell_type": "code",
   "execution_count": 46,
   "id": "7b500a1e",
   "metadata": {},
   "outputs": [
    {
     "data": {
      "text/plain": [
       "[1, 2, 4]"
      ]
     },
     "execution_count": 46,
     "metadata": {},
     "output_type": "execute_result"
    }
   ],
   "source": [
    "a1"
   ]
  },
  {
   "cell_type": "code",
   "execution_count": 47,
   "id": "1540ff2d",
   "metadata": {},
   "outputs": [
    {
     "data": {
      "text/plain": [
       "array([1., 2., 4.])"
      ]
     },
     "execution_count": 47,
     "metadata": {},
     "output_type": "execute_result"
    }
   ],
   "source": [
    "a1 / ones"
   ]
  },
  {
   "cell_type": "code",
   "execution_count": 48,
   "id": "f64451c1",
   "metadata": {},
   "outputs": [
    {
     "data": {
      "text/plain": [
       "array([[1.  , 1.  , 0.75],\n",
       "       [4.  , 2.5 , 1.5 ]])"
      ]
     },
     "execution_count": 48,
     "metadata": {},
     "output_type": "execute_result"
    }
   ],
   "source": [
    "a2 / a1  # Remainder"
   ]
  },
  {
   "cell_type": "code",
   "execution_count": 49,
   "id": "d8796bb4",
   "metadata": {},
   "outputs": [
    {
     "data": {
      "text/plain": [
       "array([[1, 1, 0],\n",
       "       [4, 2, 1]])"
      ]
     },
     "execution_count": 49,
     "metadata": {},
     "output_type": "execute_result"
    }
   ],
   "source": [
    "# Floor devision removes the decimals\n",
    "a2 // a1       # Quotient"
   ]
  },
  {
   "cell_type": "code",
   "execution_count": 50,
   "id": "a1e6d141",
   "metadata": {},
   "outputs": [
    {
     "data": {
      "text/plain": [
       "array([[ 1,  4,  9],\n",
       "       [16, 25, 36]])"
      ]
     },
     "execution_count": 50,
     "metadata": {},
     "output_type": "execute_result"
    }
   ],
   "source": [
    "a2 ** 2"
   ]
  },
  {
   "cell_type": "code",
   "execution_count": 51,
   "id": "2e3e7c0e",
   "metadata": {},
   "outputs": [
    {
     "data": {
      "text/plain": [
       "array([[ 1,  4,  9],\n",
       "       [16, 25, 36]])"
      ]
     },
     "execution_count": 51,
     "metadata": {},
     "output_type": "execute_result"
    }
   ],
   "source": [
    "np.square(a2)"
   ]
  },
  {
   "cell_type": "code",
   "execution_count": 52,
   "id": "af70e7af",
   "metadata": {},
   "outputs": [
    {
     "data": {
      "text/plain": [
       "array([2., 3., 5.])"
      ]
     },
     "execution_count": 52,
     "metadata": {},
     "output_type": "execute_result"
    }
   ],
   "source": [
    "a1 + ones"
   ]
  },
  {
   "cell_type": "code",
   "execution_count": 53,
   "id": "93b38182",
   "metadata": {},
   "outputs": [
    {
     "data": {
      "text/plain": [
       "array([2., 3., 5.])"
      ]
     },
     "execution_count": 53,
     "metadata": {},
     "output_type": "execute_result"
    }
   ],
   "source": [
    "np.add(a1, ones)"
   ]
  },
  {
   "cell_type": "code",
   "execution_count": 54,
   "id": "c8e8a930",
   "metadata": {},
   "outputs": [
    {
     "data": {
      "text/plain": [
       "array([[1, 0, 1],\n",
       "       [0, 1, 0]], dtype=int32)"
      ]
     },
     "execution_count": 54,
     "metadata": {},
     "output_type": "execute_result"
    }
   ],
   "source": [
    "a2 % 2"
   ]
  },
  {
   "cell_type": "code",
   "execution_count": 55,
   "id": "ea3e1ded",
   "metadata": {},
   "outputs": [
    {
     "data": {
      "text/plain": [
       "array([ 2.71828183,  7.3890561 , 54.59815003])"
      ]
     },
     "execution_count": 55,
     "metadata": {},
     "output_type": "execute_result"
    }
   ],
   "source": [
    "np.exp(a1)  # (e^x) "
   ]
  },
  {
   "cell_type": "code",
   "execution_count": 56,
   "id": "6ea32f8b",
   "metadata": {},
   "outputs": [
    {
     "data": {
      "text/plain": [
       "array([0.        , 0.69314718, 1.38629436])"
      ]
     },
     "execution_count": 56,
     "metadata": {},
     "output_type": "execute_result"
    }
   ],
   "source": [
    "np.log(a1)  # natural logarithm (ln(x))\n"
   ]
  },
  {
   "cell_type": "markdown",
   "id": "3859e6bf",
   "metadata": {},
   "source": [
    "### Aggregation : \n",
    "Aggregation = performing the same operation on a number of things"
   ]
  },
  {
   "cell_type": "code",
   "execution_count": 57,
   "id": "5aa44de6",
   "metadata": {},
   "outputs": [
    {
     "data": {
      "text/plain": [
       "list"
      ]
     },
     "execution_count": 57,
     "metadata": {},
     "output_type": "execute_result"
    }
   ],
   "source": [
    "listy_list = [1, 2, 3]\n",
    "type(listy_list)"
   ]
  },
  {
   "cell_type": "code",
   "execution_count": 58,
   "id": "9beda48a",
   "metadata": {},
   "outputs": [
    {
     "data": {
      "text/plain": [
       "6"
      ]
     },
     "execution_count": 58,
     "metadata": {},
     "output_type": "execute_result"
    }
   ],
   "source": [
    "sum(listy_list)"
   ]
  },
  {
   "cell_type": "code",
   "execution_count": 59,
   "id": "45d2bf8d",
   "metadata": {},
   "outputs": [
    {
     "data": {
      "text/plain": [
       "7"
      ]
     },
     "execution_count": 59,
     "metadata": {},
     "output_type": "execute_result"
    }
   ],
   "source": [
    "sum(a1)"
   ]
  },
  {
   "cell_type": "markdown",
   "id": "a0411165",
   "metadata": {},
   "source": [
    "\n",
    "\n",
    "use python's methods (`sum()`) on python datatypes and use Numpy's \n",
    "methods on Numpy arrays (`np.sum()`)."
   ]
  },
  {
   "cell_type": "code",
   "execution_count": 60,
   "id": "5eb9809e",
   "metadata": {},
   "outputs": [
    {
     "data": {
      "text/plain": [
       "100000"
      ]
     },
     "execution_count": 60,
     "metadata": {},
     "output_type": "execute_result"
    }
   ],
   "source": [
    "# Create a massive numpy array\n",
    "massive_array = np.random.random(100000)\n",
    "massive_array.size"
   ]
  },
  {
   "cell_type": "code",
   "execution_count": 61,
   "id": "59547840",
   "metadata": {},
   "outputs": [
    {
     "data": {
      "text/plain": [
       "array([5.13401002e-01, 1.78425755e-01, 3.92001558e-01, 9.39592757e-01,\n",
       "       2.12918576e-01, 8.13296270e-01, 4.03648576e-01, 5.86720921e-01,\n",
       "       1.85998888e-01, 8.12322514e-01, 5.80847410e-01, 4.46932540e-01,\n",
       "       7.98081407e-01, 5.44271853e-01, 4.18416591e-01, 1.91566630e-02,\n",
       "       6.83773725e-01, 4.88097921e-01, 2.20579665e-01, 5.50543046e-01,\n",
       "       5.22591106e-01, 4.87552481e-01, 2.63031484e-01, 5.27285791e-01,\n",
       "       9.84465732e-01, 6.23423451e-01, 6.29556935e-01, 9.09972897e-01,\n",
       "       9.62519488e-01, 5.85099803e-01, 1.64897745e-01, 3.91593321e-01,\n",
       "       9.44554929e-01, 3.43391181e-01, 7.05070369e-01, 4.62886797e-01,\n",
       "       3.86790691e-01, 5.28432556e-01, 8.21689919e-01, 6.38477023e-01,\n",
       "       8.62888724e-01, 6.36626535e-01, 9.99297060e-01, 5.17780077e-01,\n",
       "       3.27616645e-01, 9.87732368e-02, 5.66766405e-01, 2.15207937e-01,\n",
       "       1.17907866e-02, 2.99215324e-01, 3.89774292e-02, 9.76213822e-01,\n",
       "       5.51453084e-01, 7.17162105e-02, 3.40067818e-01, 2.42902394e-01,\n",
       "       1.07350825e-01, 7.70330585e-01, 3.50601551e-01, 1.87642737e-01,\n",
       "       9.12652686e-01, 8.61148263e-01, 3.98898231e-01, 5.46336436e-01,\n",
       "       4.50375445e-01, 6.93599195e-01, 2.13846085e-01, 3.23798903e-01,\n",
       "       7.39892918e-01, 1.82570513e-01, 6.96021938e-01, 5.26735064e-01,\n",
       "       1.98491056e-01, 6.50464023e-01, 5.09776493e-01, 6.89037168e-01,\n",
       "       5.73428006e-01, 7.70118321e-01, 3.93048252e-01, 9.58589950e-01,\n",
       "       9.78051870e-01, 2.06881142e-01, 4.76001301e-01, 7.90163460e-01,\n",
       "       1.27936372e-01, 8.26994244e-01, 2.37435917e-01, 9.40565627e-01,\n",
       "       8.20658191e-01, 5.17595737e-02, 1.85464807e-03, 1.76972446e-01,\n",
       "       5.38425839e-01, 5.38016186e-01, 5.11769628e-01, 2.42185890e-01,\n",
       "       6.17672953e-03, 7.41266752e-01, 4.49704518e-01, 8.74714566e-01,\n",
       "       3.86955259e-01, 4.16015943e-03, 1.46710165e-01, 3.66681513e-02,\n",
       "       2.72195842e-01, 2.62620468e-01, 6.09246411e-01, 1.48294739e-01,\n",
       "       2.07695289e-01, 7.21275938e-01, 2.67587958e-01, 1.84895815e-01,\n",
       "       8.10356977e-01, 9.10338554e-02, 1.29669641e-01, 6.79596768e-01,\n",
       "       4.49597410e-01, 3.89663104e-01, 6.61845747e-01, 1.04835339e-02,\n",
       "       2.61519065e-01, 7.52236290e-01, 9.37488248e-01, 6.75684633e-01,\n",
       "       4.98471765e-01, 7.75327676e-01, 5.65051867e-01, 3.03822097e-01,\n",
       "       4.80925279e-01, 3.15029804e-01, 3.80222099e-02, 5.68949165e-01,\n",
       "       9.85764130e-01, 3.73232353e-01, 6.79768539e-01, 1.22094369e-01,\n",
       "       9.26511891e-02, 6.32953462e-01, 2.80880237e-01, 2.71403482e-01,\n",
       "       8.90218187e-01, 2.03508805e-01, 2.91110261e-01, 5.47229991e-01,\n",
       "       7.16290642e-01, 5.18354217e-01, 7.33582303e-01, 5.89728710e-02,\n",
       "       5.86231124e-01, 5.82794025e-01, 6.28057700e-01, 7.15182106e-01,\n",
       "       2.43247718e-01, 7.25985722e-01, 9.70457994e-01, 3.77765877e-01,\n",
       "       1.69680039e-01, 3.54863400e-01, 6.04863553e-01, 5.62970842e-01,\n",
       "       6.24130323e-01, 6.91693013e-01, 4.31779544e-01, 1.79917500e-01,\n",
       "       6.17050486e-01, 4.22966525e-01, 6.32532376e-01, 9.04122831e-01,\n",
       "       5.99167498e-01, 2.21636384e-01, 2.02597448e-01, 9.28453526e-01,\n",
       "       8.36589263e-01, 4.13648970e-01, 9.31121182e-01, 2.94572302e-01,\n",
       "       6.73805668e-01, 7.17261786e-01, 6.88866338e-01, 2.64826659e-01,\n",
       "       8.81812603e-01, 2.72259422e-01, 2.76176037e-01, 8.42669704e-01,\n",
       "       9.90664259e-01, 6.92008853e-01, 1.96804925e-01, 6.79125644e-02,\n",
       "       6.37459185e-01, 9.62732040e-01, 9.63589513e-01, 3.91235201e-01,\n",
       "       9.08927716e-01, 2.36111667e-01, 6.98507823e-01, 2.36488603e-01,\n",
       "       1.22881833e-02, 6.59670859e-02, 8.53340682e-01, 6.28665238e-01,\n",
       "       9.70157182e-01, 5.16360235e-01, 4.34561010e-01, 8.70375595e-01,\n",
       "       7.50309518e-01, 1.09293333e-01, 6.96028685e-01, 8.91198397e-01,\n",
       "       1.35870548e-01, 4.71738320e-01, 3.39727420e-01, 4.64513748e-01,\n",
       "       1.69235388e-01, 4.01256417e-01, 2.59571093e-01, 5.51281331e-02,\n",
       "       3.97680664e-01, 6.82383593e-01, 4.22001534e-01, 3.71281879e-01,\n",
       "       5.30452661e-01, 6.84240522e-01, 1.13325670e-01, 6.45206284e-01,\n",
       "       1.85705327e-01, 9.07684608e-01, 7.48467997e-01, 4.18617016e-01,\n",
       "       5.61318234e-01, 6.46612008e-01, 7.75534914e-01, 4.77386872e-01,\n",
       "       4.48741458e-01, 5.58262672e-01, 4.11721740e-02, 7.43677465e-01,\n",
       "       6.70077742e-01, 2.54461906e-01, 9.09693039e-01, 7.49240109e-01,\n",
       "       8.42615541e-01, 8.72546034e-01, 5.10554058e-01, 4.66628395e-01,\n",
       "       8.99000991e-01, 2.95111155e-01, 6.10616704e-01, 4.41658438e-01,\n",
       "       6.13582792e-02, 9.54320351e-01, 4.22174758e-01, 5.68424959e-01,\n",
       "       3.35871497e-01, 8.00589232e-01, 2.62435383e-03, 8.57895774e-01,\n",
       "       4.47701297e-01, 4.93316526e-01, 2.80669639e-01, 8.77662168e-01,\n",
       "       4.16184370e-01, 9.68668173e-01, 3.92886291e-01, 8.42295367e-01,\n",
       "       7.25021096e-01, 7.26983995e-02, 2.10626285e-01, 6.40071476e-01,\n",
       "       9.96101927e-01, 8.22101007e-02, 3.98377077e-01, 5.07203965e-03,\n",
       "       4.77384751e-01, 2.65700462e-01, 9.98858113e-01, 6.34469835e-02,\n",
       "       5.82106548e-01, 9.61936174e-01, 9.40477474e-01, 9.76236638e-02,\n",
       "       9.87574436e-01, 9.87712001e-01, 4.81993314e-01, 7.80581487e-01,\n",
       "       7.29809168e-01, 7.81959822e-01, 3.33752776e-01, 5.40155462e-01,\n",
       "       3.34188108e-01, 7.67901407e-01, 1.63203059e-03, 5.26045575e-01,\n",
       "       2.27962718e-02, 2.96174075e-01, 2.91703742e-02, 9.85877539e-01,\n",
       "       8.66846217e-02, 6.20648169e-01, 7.29289047e-02, 4.01008530e-01,\n",
       "       5.03971154e-01, 3.44453704e-02, 5.56982134e-01, 9.56225014e-01,\n",
       "       6.59793034e-01, 8.92523743e-01, 8.05549288e-01, 7.39294232e-01,\n",
       "       8.97988092e-01, 8.79483413e-01, 9.98187726e-01, 1.69351504e-01,\n",
       "       3.32177629e-01, 3.96972715e-01, 8.35375241e-01, 9.87254947e-01,\n",
       "       9.31529715e-01, 2.25163869e-01, 1.17496208e-01, 7.02312111e-01,\n",
       "       3.62728888e-01, 8.79778589e-01, 4.61716424e-01, 4.48480151e-01,\n",
       "       2.20867288e-01, 7.52465236e-01, 2.20048170e-01, 3.68357196e-01,\n",
       "       7.72318928e-01, 2.34956951e-01, 3.24372308e-01, 7.04152612e-02,\n",
       "       8.28016521e-01, 4.98945076e-01, 6.18679600e-01, 2.52686937e-01,\n",
       "       6.84660062e-01, 3.71987659e-02, 2.44301499e-01, 4.88354163e-01,\n",
       "       9.49576925e-01, 5.30395587e-01, 3.37350036e-01, 9.40921927e-01,\n",
       "       4.15321964e-01, 8.98086862e-01, 6.51599755e-02, 9.33147756e-01,\n",
       "       6.74831140e-01, 2.66804991e-01, 9.14137405e-01, 1.66985322e-01,\n",
       "       3.13959564e-01, 1.36089381e-01, 8.55464391e-01, 8.67451346e-01,\n",
       "       1.86538516e-01, 7.44652131e-01, 3.25307239e-01, 2.99132693e-01,\n",
       "       6.21828259e-01, 6.14413488e-01, 3.92039031e-01, 1.48166718e-01,\n",
       "       3.82734253e-01, 3.15311072e-01, 5.75359096e-01, 7.00917438e-01,\n",
       "       9.40557421e-01, 7.30022833e-01, 7.78016471e-01, 2.48858982e-01,\n",
       "       6.92782685e-01, 6.06447003e-02, 5.25851870e-01, 9.36402122e-01,\n",
       "       1.17823586e-01, 7.96532933e-01, 1.62533726e-01, 5.98925163e-02,\n",
       "       8.13158581e-01, 8.50539063e-01, 6.32596513e-01, 1.83576170e-01,\n",
       "       7.86744236e-01, 8.67849530e-01, 8.01548754e-01, 6.51652343e-01,\n",
       "       9.67919969e-01, 3.65622144e-01, 1.09698300e-01, 3.87684586e-01,\n",
       "       9.13984969e-01, 9.79518581e-01, 6.79903215e-02, 7.41506137e-02,\n",
       "       5.56171291e-01, 2.48774371e-01, 9.30766263e-01, 5.98965677e-01,\n",
       "       6.23700719e-01, 4.22827203e-01, 5.58660299e-01, 1.41080643e-01,\n",
       "       1.71467650e-01, 7.03568667e-01, 8.12247961e-01, 6.38854530e-01,\n",
       "       4.17704875e-02, 7.45260722e-01, 4.22313626e-01, 3.01883184e-01,\n",
       "       6.52378155e-06, 1.28433625e-01, 5.17399014e-02, 6.05832443e-01,\n",
       "       4.02667373e-01, 3.35875821e-01, 5.28222715e-01, 4.33980209e-01,\n",
       "       4.66992720e-01, 4.31945558e-01, 5.85373175e-01, 5.44522466e-01,\n",
       "       9.97836458e-01, 3.80218614e-01, 5.36759699e-01, 8.24632153e-01,\n",
       "       1.26094270e-01, 2.98702477e-01, 3.70640630e-01, 4.31358776e-01,\n",
       "       5.60521973e-01, 9.93472499e-01, 4.88835200e-01, 4.50322874e-01,\n",
       "       8.48595024e-01, 7.66571223e-01, 3.96553702e-01, 9.27832172e-01,\n",
       "       2.63489878e-01, 9.29874376e-01, 7.37491601e-01, 7.17948989e-01,\n",
       "       8.25146372e-01, 4.96830533e-01, 2.72933631e-01, 5.57015437e-01,\n",
       "       9.34555450e-01, 7.82663757e-01, 6.62179441e-02, 3.79600711e-01,\n",
       "       1.28483202e-01, 7.18655456e-01, 6.64954873e-01, 7.95003603e-01,\n",
       "       5.28911509e-02, 6.60352458e-01, 1.78779940e-01, 6.68312856e-01,\n",
       "       9.75326736e-01, 1.12906130e-01, 5.64003663e-01, 9.70915363e-01,\n",
       "       3.83436052e-01, 7.04459133e-01, 3.34961928e-01, 4.58258036e-01,\n",
       "       9.39274484e-01, 7.16880538e-02, 4.54432165e-01, 1.51650673e-02,\n",
       "       5.31022416e-01, 7.22958049e-01, 8.06504100e-01, 3.46456023e-01,\n",
       "       7.15624768e-01, 8.32340521e-01, 9.16074367e-01, 2.90258593e-01,\n",
       "       8.12302833e-01, 3.24818923e-01, 3.27014808e-02, 7.93076094e-01,\n",
       "       1.08553977e-01, 2.65843103e-01, 3.44017724e-02, 5.99137358e-01,\n",
       "       1.19999373e-01, 4.21740190e-01, 2.30255418e-01, 6.67860481e-01,\n",
       "       4.19425769e-01, 8.92334016e-01, 2.63523888e-01, 5.78595478e-01,\n",
       "       9.75499365e-02, 6.10069157e-01, 3.57863456e-01, 8.67486555e-01,\n",
       "       3.18514357e-01, 8.31569301e-01, 9.47763881e-01, 6.97937270e-01,\n",
       "       4.83507522e-01, 2.56418433e-01, 5.42928338e-02, 7.40494796e-02,\n",
       "       9.73107450e-01, 4.12062457e-01, 4.91784342e-01, 5.91312652e-01,\n",
       "       5.24748762e-01, 7.79839873e-01, 7.63436270e-01, 1.31181598e-01,\n",
       "       2.79811574e-01, 1.53928997e-01, 1.43398179e-01, 6.35479838e-01,\n",
       "       2.25932936e-01, 8.30025708e-01, 8.88123655e-01, 2.72522693e-01,\n",
       "       7.52295298e-01, 2.69680953e-01, 4.85956362e-02, 7.28961113e-01,\n",
       "       3.83081005e-01, 9.80678583e-01, 6.50665718e-01, 2.16400788e-01,\n",
       "       4.68868224e-01, 1.06016279e-01, 9.84050952e-01, 2.80907534e-01,\n",
       "       2.46961354e-01, 2.72156698e-04, 7.39987152e-01, 7.21457063e-01,\n",
       "       6.17761721e-01, 1.63468370e-01, 5.54838601e-01, 3.07449638e-01,\n",
       "       9.78291892e-01, 7.79520385e-01, 3.66561977e-02, 1.30541900e-01,\n",
       "       1.57178259e-01, 3.51121829e-01, 2.15744854e-02, 1.32843216e-01,\n",
       "       2.19353037e-01, 8.00847783e-01, 5.07507918e-01, 5.14488557e-01,\n",
       "       1.29185342e-01, 4.15965572e-01, 5.80391479e-02, 1.19538882e-01,\n",
       "       6.29311990e-01, 1.28911755e-01, 1.72227792e-01, 9.79163052e-01,\n",
       "       8.30964881e-01, 5.11576544e-01, 5.13007182e-01, 5.78946929e-01,\n",
       "       9.01102309e-02, 6.55701777e-01, 7.76338296e-01, 1.00680160e-01,\n",
       "       3.42622279e-02, 7.00321929e-01, 8.29333712e-01, 9.88213743e-01,\n",
       "       8.49694572e-01, 2.13111310e-01, 5.22918256e-01, 7.31333883e-01,\n",
       "       8.10159361e-01, 4.71990135e-01, 8.53746385e-02, 7.20007380e-01,\n",
       "       2.32823904e-01, 8.53261909e-01, 5.74452495e-01, 1.31902985e-01,\n",
       "       7.77258416e-01, 2.85376682e-01, 6.38732316e-01, 2.49437417e-02,\n",
       "       3.39453645e-01, 9.53707836e-01, 9.25507293e-01, 2.64796656e-01,\n",
       "       3.23822152e-01, 1.43591455e-01, 3.55469017e-02, 6.69581087e-01,\n",
       "       1.58657673e-01, 6.33726627e-01, 1.07859323e-01, 3.86411508e-01,\n",
       "       6.67770684e-01, 9.67674255e-01, 9.24670298e-01, 2.95035484e-01,\n",
       "       3.72841007e-01, 4.51351346e-01, 3.09135052e-01, 8.14692281e-01,\n",
       "       8.65164669e-01, 1.86018003e-01, 3.37700330e-01, 6.63978572e-02,\n",
       "       8.52588442e-01, 4.45257434e-01, 6.56520771e-01, 5.38703222e-01,\n",
       "       5.22204679e-01, 6.85825789e-01, 8.54033312e-04, 5.72092414e-01,\n",
       "       7.68127593e-01, 4.94881278e-01, 1.12365024e-01, 7.23467465e-01,\n",
       "       9.42055311e-01, 2.68166122e-01, 7.20316930e-01, 7.74140580e-01,\n",
       "       5.20486636e-01, 5.35670890e-01, 9.03257652e-01, 3.97532615e-01,\n",
       "       4.99169572e-01, 2.56610785e-01, 6.81241902e-01, 7.84254597e-01,\n",
       "       3.81281739e-01, 8.35271661e-01, 8.14022244e-01, 6.33147497e-01,\n",
       "       3.31264362e-01, 6.67477726e-02, 1.68820460e-01, 6.77804132e-01,\n",
       "       3.05577480e-01, 2.43160449e-01, 8.46538131e-01, 9.11630331e-01,\n",
       "       5.69621204e-01, 2.15969230e-01, 4.94578068e-01, 1.07653564e-01,\n",
       "       5.30283383e-01, 9.17322311e-01, 4.07126709e-01, 2.59701120e-01,\n",
       "       3.79571596e-01, 2.57111231e-01, 5.82902914e-01, 4.39628399e-01,\n",
       "       2.35718217e-01, 8.82103247e-01, 4.84594564e-02, 7.30103757e-01,\n",
       "       7.80634824e-01, 2.91018728e-01, 1.68523618e-01, 3.60947628e-01,\n",
       "       8.19029858e-01, 4.34610833e-01, 7.17129609e-01, 6.08353007e-01,\n",
       "       1.02419733e-01, 5.08689199e-01, 6.31195611e-01, 2.80319530e-01,\n",
       "       1.01198753e-01, 7.61412249e-01, 8.51014039e-02, 7.80950345e-01,\n",
       "       6.19812193e-01, 5.75755827e-01, 2.05625129e-01, 3.18399250e-01,\n",
       "       2.99272088e-01, 6.27924740e-01, 4.85493317e-01, 4.21133425e-01,\n",
       "       5.77175872e-01, 8.34819600e-01, 5.97293844e-02, 7.28500937e-01,\n",
       "       3.03487770e-01, 2.25822903e-01, 5.10532646e-01, 1.79926289e-01,\n",
       "       7.02152287e-01, 3.11734066e-01, 3.11576888e-01, 9.65913458e-01,\n",
       "       3.09042980e-01, 1.17021705e-01, 7.69409116e-02, 7.26620935e-01,\n",
       "       2.19989344e-01, 4.00771803e-01, 8.01664837e-01, 8.40109585e-01,\n",
       "       2.20666658e-01, 4.34794775e-01, 7.65206957e-01, 4.20375889e-01,\n",
       "       7.62436585e-01, 5.44906127e-01, 8.25550213e-01, 4.11030713e-01,\n",
       "       5.77665589e-01, 9.03068726e-01, 3.40141030e-01, 6.84153209e-01,\n",
       "       2.85266265e-01, 4.72275053e-01, 3.81353951e-01, 1.71689356e-01,\n",
       "       7.96709474e-01, 8.56839888e-01, 2.99386176e-01, 7.32669256e-01,\n",
       "       6.95127620e-01, 7.32146572e-01, 8.72048688e-01, 4.49272834e-01,\n",
       "       6.04807105e-01, 4.57279441e-02, 4.38817987e-01, 5.48817046e-01,\n",
       "       1.05531290e-01, 1.22056083e-01, 5.39577024e-01, 2.82146728e-01,\n",
       "       6.10267561e-01, 4.42885574e-01, 6.33570524e-01, 6.50808761e-01,\n",
       "       2.49718201e-01, 2.60157032e-01, 9.24209417e-01, 5.81701051e-01,\n",
       "       6.45168332e-01, 3.70879568e-01, 3.13989932e-01, 7.68595833e-01,\n",
       "       2.20861752e-01, 7.11961144e-01, 4.52276741e-01, 9.47158404e-01,\n",
       "       7.01256583e-01, 8.74731410e-01, 9.14495022e-01, 6.26879748e-01,\n",
       "       9.34462040e-01, 5.58640499e-01, 3.06595074e-01, 8.50975985e-01,\n",
       "       7.15840098e-01, 3.51357958e-01, 6.65925081e-01, 7.50730339e-01,\n",
       "       1.93865566e-01, 2.52053649e-01, 5.07691763e-01, 3.86703599e-01,\n",
       "       5.96655595e-01, 4.67144920e-01, 9.17590307e-01, 8.65633779e-01,\n",
       "       5.64235734e-01, 8.29132242e-01, 3.53191533e-01, 5.86894441e-01,\n",
       "       3.68386792e-01, 9.36138753e-01, 6.28687532e-01, 7.22175671e-01,\n",
       "       8.96741799e-01, 4.53047077e-01, 6.22025641e-01, 7.83218686e-01,\n",
       "       5.94195332e-02, 8.27776447e-01, 3.71569639e-01, 2.65525891e-01,\n",
       "       4.17363262e-01, 8.11011228e-02, 9.84066843e-01, 4.91173227e-01,\n",
       "       5.53441481e-01, 1.72476569e-01, 3.37136973e-01, 6.41804975e-01,\n",
       "       8.94545375e-01, 9.54348242e-01, 9.91033593e-01, 2.15022776e-01,\n",
       "       4.44604246e-01, 7.66834486e-01, 2.39607880e-01, 8.92476658e-02,\n",
       "       5.43448921e-01, 9.90278269e-01, 7.84290213e-01, 5.05556772e-01,\n",
       "       4.09584792e-01, 9.18475663e-01, 6.38632385e-01, 9.04999982e-01,\n",
       "       8.25914548e-01, 3.91939144e-01, 9.55505829e-01, 1.85604516e-01,\n",
       "       6.36791916e-01, 1.88389508e-01, 3.58932221e-01, 4.25560512e-01,\n",
       "       7.72755986e-01, 9.29331971e-01, 1.80645081e-02, 2.96089166e-01,\n",
       "       6.40229535e-01, 3.54837149e-01, 4.84739469e-01, 1.01723809e-01,\n",
       "       3.23989334e-01, 9.90436619e-01, 1.68371673e-01, 3.03784351e-01,\n",
       "       1.75984395e-01, 3.33584439e-01, 3.70783487e-01, 8.62305972e-01,\n",
       "       5.53571604e-01, 4.79265875e-01, 2.53049541e-01, 3.89642020e-01,\n",
       "       4.83578752e-02, 1.19474287e-01, 7.50544190e-01, 8.90929042e-02,\n",
       "       9.02762443e-01, 5.91202407e-01, 8.92497753e-01, 4.64611898e-01,\n",
       "       7.13485070e-01, 7.62563983e-01, 4.86000387e-01, 2.64735441e-01,\n",
       "       6.37664458e-01, 2.75625573e-01, 7.72790140e-01, 2.95891751e-02,\n",
       "       5.42522808e-01, 4.69749981e-01, 7.26341368e-01, 7.98708536e-01,\n",
       "       8.99865069e-01, 1.96401952e-01, 8.65495179e-01, 7.82070791e-01,\n",
       "       6.00423465e-01, 7.80628609e-01, 2.59082622e-01, 9.23177227e-01,\n",
       "       9.75393788e-01, 4.09991486e-01, 3.26571938e-01, 5.48237115e-01,\n",
       "       8.00315784e-02, 7.01689566e-01, 3.28653428e-01, 3.17791939e-01,\n",
       "       5.56785892e-02, 1.77295402e-01, 1.18247417e-01, 3.12045157e-01,\n",
       "       7.17618949e-01, 9.67842703e-01, 7.10371447e-01, 1.98928044e-02,\n",
       "       2.87147746e-01, 1.19564790e-01, 9.93844862e-01, 8.20420689e-01,\n",
       "       6.29195849e-01, 1.20499912e-01, 9.74238657e-01, 1.26081873e-01,\n",
       "       6.92028828e-01, 5.60470948e-01, 2.20494597e-01, 7.75375144e-01,\n",
       "       1.26650817e-01, 7.98259366e-01, 4.19712157e-01, 6.35997786e-02,\n",
       "       2.13023475e-01, 8.09516006e-01, 4.69536305e-01, 5.52929659e-02,\n",
       "       6.34496946e-01, 1.19060278e-01, 1.76146670e-01, 5.64503143e-01,\n",
       "       8.68368604e-01, 1.40452442e-01, 8.20405331e-01, 6.84081087e-01,\n",
       "       9.75811218e-01, 5.63278235e-01, 2.74271743e-01, 6.01978103e-01,\n",
       "       3.30936684e-01, 6.98089727e-01, 9.04797175e-01, 2.27614069e-01,\n",
       "       9.14855814e-01, 4.71336969e-01, 3.05747249e-01, 6.82771971e-01,\n",
       "       2.45773679e-01, 1.66281080e-01, 4.03230372e-02, 3.06080475e-01,\n",
       "       5.51160024e-01, 4.83772415e-01, 6.67966190e-01, 9.56963372e-01,\n",
       "       4.05363874e-01, 6.94024951e-01, 2.46721782e-01, 5.27098904e-01,\n",
       "       1.02233950e-01, 4.33439530e-01, 4.30202047e-01, 5.25377068e-01,\n",
       "       9.37660184e-01, 5.44732214e-01, 3.49746362e-01, 7.49533382e-01,\n",
       "       6.25094834e-01, 8.44186612e-01, 9.64032578e-01, 2.45242096e-02,\n",
       "       8.58430099e-02, 7.26617258e-01, 7.97201717e-01, 9.72150310e-01,\n",
       "       2.71831387e-01, 7.62565477e-01, 3.89480108e-01, 1.15734651e-01,\n",
       "       6.25530055e-01, 2.64584374e-01, 9.09317109e-01, 8.23311631e-01,\n",
       "       1.26386409e-01, 9.12252572e-01, 4.23967627e-01, 4.46108044e-01,\n",
       "       9.36349119e-01, 2.18275679e-01, 4.35374204e-01, 8.95008728e-01,\n",
       "       1.32538762e-01, 5.84695438e-01, 9.29951816e-01, 1.57227653e-01,\n",
       "       3.31474569e-01, 4.74601616e-01, 6.35446421e-01, 8.28378522e-01,\n",
       "       5.68878292e-01, 1.36651870e-01, 5.99039408e-01, 7.03376661e-01,\n",
       "       6.17373489e-01, 9.91484955e-01, 9.02872663e-01, 3.78384764e-01,\n",
       "       3.83426098e-02, 1.51032202e-01, 3.33929241e-01, 3.59991845e-01,\n",
       "       2.45106860e-02, 1.95868612e-02, 1.10959946e-02, 2.61440412e-01])"
      ]
     },
     "execution_count": 61,
     "metadata": {},
     "output_type": "execute_result"
    }
   ],
   "source": [
    "massive_array[:1000]"
   ]
  },
  {
   "cell_type": "code",
   "execution_count": 62,
   "id": "c4ab7050",
   "metadata": {},
   "outputs": [
    {
     "name": "stdout",
     "output_type": "stream",
     "text": [
      "15.2 ms ± 1.03 ms per loop (mean ± std. dev. of 7 runs, 100 loops each)\n",
      "74.4 µs ± 9.52 µs per loop (mean ± std. dev. of 7 runs, 10,000 loops each)\n"
     ]
    }
   ],
   "source": [
    "%timeit sum(massive_array)   # Python's sum()\n",
    "%timeit np.sum(massive_array)       # Numpy's np.sum()"
   ]
  },
  {
   "cell_type": "code",
   "execution_count": 63,
   "id": "4590b603",
   "metadata": {},
   "outputs": [
    {
     "data": {
      "text/plain": [
       "2.3333333333333335"
      ]
     },
     "execution_count": 63,
     "metadata": {},
     "output_type": "execute_result"
    }
   ],
   "source": [
    "np.mean(a1)"
   ]
  },
  {
   "cell_type": "code",
   "execution_count": 64,
   "id": "e0e40a3c",
   "metadata": {},
   "outputs": [
    {
     "data": {
      "text/plain": [
       "4"
      ]
     },
     "execution_count": 64,
     "metadata": {},
     "output_type": "execute_result"
    }
   ],
   "source": [
    "np.max(a1)"
   ]
  },
  {
   "cell_type": "code",
   "execution_count": 65,
   "id": "50e44f9a",
   "metadata": {},
   "outputs": [
    {
     "data": {
      "text/plain": [
       "1"
      ]
     },
     "execution_count": 65,
     "metadata": {},
     "output_type": "execute_result"
    }
   ],
   "source": [
    "np.min(a1)"
   ]
  },
  {
   "cell_type": "code",
   "execution_count": 66,
   "id": "106cb237",
   "metadata": {},
   "outputs": [
    {
     "data": {
      "text/plain": [
       "2.9166666666666665"
      ]
     },
     "execution_count": 66,
     "metadata": {},
     "output_type": "execute_result"
    }
   ],
   "source": [
    "\"\"\"\n",
    "Variance is a measure of the average degree to which each number differs from the mean.\n",
    "\n",
    "High Variance\n",
    "Dataset 1 (High Variance):\n",
    "Values: [20, 80, 10, 100, 50]\n",
    "Mean: 52\n",
    "Variance: High, as values vary greatly from the mean.\n",
    "\n",
    "Low Variance\n",
    "Dataset 2 (Low Variance):\n",
    "Values: [50, 51, 49, 52, 50]\n",
    "Mean: 50.4\n",
    "Variance: Small, as values are close to the mean.\n",
    "\n",
    "Variance is a statistical measure that quantifies how much a set of data points differ from the mean (average) of the data. \n",
    "In simpler terms, it measures the spread or dispersion of data points in a dataset.\n",
    "\"\"\"\n",
    "np.var(a2)"
   ]
  },
  {
   "cell_type": "code",
   "execution_count": 67,
   "id": "c06acf23",
   "metadata": {},
   "outputs": [
    {
     "data": {
      "text/plain": [
       "1176.0"
      ]
     },
     "execution_count": 67,
     "metadata": {},
     "output_type": "execute_result"
    }
   ],
   "source": [
    "k1 = [20,80,10,100,50]\n",
    "np.var(k1)"
   ]
  },
  {
   "cell_type": "code",
   "execution_count": 68,
   "id": "351344fc",
   "metadata": {},
   "outputs": [
    {
     "data": {
      "text/plain": [
       "1.04"
      ]
     },
     "execution_count": 68,
     "metadata": {},
     "output_type": "execute_result"
    }
   ],
   "source": [
    "k2 =  [50,51,49,52,50]\n",
    "np.var(k2)"
   ]
  },
  {
   "cell_type": "code",
   "execution_count": 69,
   "id": "2d82ecaf",
   "metadata": {},
   "outputs": [
    {
     "data": {
      "image/png": "[encoded data removed]",
      "text/plain": [
       "<Figure size 640x480 with 1 Axes>"
      ]
     },
     "metadata": {},
     "output_type": "display_data"
    }
   ],
   "source": [
    "%matplotlib inline\n",
    "import matplotlib.pyplot as plt\n",
    "plt.hist(k1, bins=30, alpha=0.5, label='k1', color='blue')\n",
    "plt.hist(k2, bins=30, alpha=0.5, label='k2', color='orange')\n",
    "plt.show()"
   ]
  },
  {
   "cell_type": "code",
   "execution_count": 70,
   "id": "27c3ec22",
   "metadata": {},
   "outputs": [
    {
     "data": {
      "image/png": "[encoded data removed]",
      "text/plain": [
       "<Figure size 640x480 with 1 Axes>"
      ]
     },
     "metadata": {},
     "output_type": "display_data"
    }
   ],
   "source": [
    "plt.hist(k2)\n",
    "plt.show()"
   ]
  },
  {
   "cell_type": "code",
   "execution_count": 71,
   "id": "9d78da3f",
   "metadata": {},
   "outputs": [
    {
     "data": {
      "text/plain": [
       "'\\nStandard Deviation (σ) : is the square root of variance\\nStandard Deviation (SD) is a statistical measure that quantifies the amount of variation \\nor dispersion in a dataset. It is the square root of variance, making it easier to interpret \\nbecause it is expressed in the same units as the data.\\nnp.std(a2)\\n            '"
      ]
     },
     "execution_count": 71,
     "metadata": {},
     "output_type": "execute_result"
    }
   ],
   "source": [
    "\"\"\"\n",
    "Standard Deviation (σ) : is the square root of variance\n",
    "Standard Deviation (SD) is a statistical measure that quantifies the amount of variation \n",
    "or dispersion in a dataset. It is the square root of variance, making it easier to interpret \n",
    "because it is expressed in the same units as the data.\n",
    "np.std(a2)\n",
    "            \"\"\""
   ]
  },
  {
   "cell_type": "code",
   "execution_count": 72,
   "id": "5eb7d2a5",
   "metadata": {},
   "outputs": [
    {
     "data": {
      "text/plain": [
       "1.707825127659933"
      ]
     },
     "execution_count": 72,
     "metadata": {},
     "output_type": "execute_result"
    }
   ],
   "source": [
    "np.sqrt(np.var(a2))"
   ]
  },
  {
   "cell_type": "markdown",
   "id": "8000a53d",
   "metadata": {},
   "source": [
    "# Reshaping and transposing"
   ]
  },
  {
   "cell_type": "code",
   "execution_count": 73,
   "id": "901bf0ca",
   "metadata": {},
   "outputs": [
    {
     "data": {
      "text/plain": [
       "array([[1, 2, 3],\n",
       "       [4, 5, 6]])"
      ]
     },
     "execution_count": 73,
     "metadata": {},
     "output_type": "execute_result"
    }
   ],
   "source": [
    "a2"
   ]
  },
  {
   "cell_type": "code",
   "execution_count": 74,
   "id": "6763c2ed",
   "metadata": {},
   "outputs": [
    {
     "data": {
      "text/plain": [
       "(2, 3)"
      ]
     },
     "execution_count": 74,
     "metadata": {},
     "output_type": "execute_result"
    }
   ],
   "source": [
    "a2.shape"
   ]
  },
  {
   "cell_type": "code",
   "execution_count": 75,
   "id": "b4f072f9",
   "metadata": {},
   "outputs": [
    {
     "data": {
      "text/plain": [
       "array([[[ 1,  2,  3],\n",
       "        [ 4,  5,  6],\n",
       "        [ 7,  8,  9]],\n",
       "\n",
       "       [[12, 22, 34],\n",
       "        [42, 52, 62],\n",
       "        [72, 82, 92]]])"
      ]
     },
     "execution_count": 75,
     "metadata": {},
     "output_type": "execute_result"
    }
   ],
   "source": [
    "a3"
   ]
  },
  {
   "cell_type": "code",
   "execution_count": 76,
   "id": "af3fb999",
   "metadata": {},
   "outputs": [
    {
     "data": {
      "text/plain": [
       "(2, 3, 3)"
      ]
     },
     "execution_count": 76,
     "metadata": {},
     "output_type": "execute_result"
    }
   ],
   "source": [
    "a3.shape"
   ]
  },
  {
   "cell_type": "code",
   "execution_count": 77,
   "id": "ec163c04",
   "metadata": {},
   "outputs": [
    {
     "data": {
      "text/plain": [
       "array([[[1],\n",
       "        [2],\n",
       "        [3]],\n",
       "\n",
       "       [[4],\n",
       "        [5],\n",
       "        [6]]])"
      ]
     },
     "execution_count": 77,
     "metadata": {},
     "output_type": "execute_result"
    }
   ],
   "source": [
    "a2.reshape(2, 3, 1)"
   ]
  },
  {
   "cell_type": "code",
   "execution_count": 78,
   "id": "3491b757",
   "metadata": {},
   "outputs": [
    {
     "data": {
      "text/plain": [
       "array([[[1],\n",
       "        [2],\n",
       "        [3]],\n",
       "\n",
       "       [[4],\n",
       "        [5],\n",
       "        [6]]])"
      ]
     },
     "execution_count": 78,
     "metadata": {},
     "output_type": "execute_result"
    }
   ],
   "source": [
    "a2_reshape = a2.reshape(2, 3, 1)\n",
    "a2_reshape"
   ]
  },
  {
   "cell_type": "code",
   "execution_count": 79,
   "id": "fd2db763",
   "metadata": {},
   "outputs": [
    {
     "data": {
      "text/plain": [
       "array([[[  1,   2,   3],\n",
       "        [  8,  10,  12],\n",
       "        [ 21,  24,  27]],\n",
       "\n",
       "       [[ 48,  88, 136],\n",
       "        [210, 260, 310],\n",
       "        [432, 492, 552]]])"
      ]
     },
     "execution_count": 79,
     "metadata": {},
     "output_type": "execute_result"
    }
   ],
   "source": [
    "a2_reshape * a3"
   ]
  },
  {
   "cell_type": "code",
   "execution_count": 80,
   "id": "b1b1ffd1",
   "metadata": {},
   "outputs": [
    {
     "data": {
      "text/plain": [
       "array([[1, 4],\n",
       "       [2, 5],\n",
       "       [3, 6]])"
      ]
     },
     "execution_count": 80,
     "metadata": {},
     "output_type": "execute_result"
    }
   ],
   "source": [
    "# Transpose\n",
    "a2.T"
   ]
  },
  {
   "cell_type": "code",
   "execution_count": 81,
   "id": "24ec2fd1",
   "metadata": {},
   "outputs": [
    {
     "data": {
      "text/plain": [
       "(2, 3, 3)"
      ]
     },
     "execution_count": 81,
     "metadata": {},
     "output_type": "execute_result"
    }
   ],
   "source": [
    "a3.shape"
   ]
  },
  {
   "cell_type": "code",
   "execution_count": 82,
   "id": "7859525f",
   "metadata": {},
   "outputs": [
    {
     "data": {
      "text/plain": [
       "(3, 3, 2)"
      ]
     },
     "execution_count": 82,
     "metadata": {},
     "output_type": "execute_result"
    }
   ],
   "source": [
    "a3.T.shape"
   ]
  },
  {
   "cell_type": "markdown",
   "id": "8aa57b57",
   "metadata": {},
   "source": [
    "# Dot Product"
   ]
  },
  {
   "cell_type": "code",
   "execution_count": 83,
   "id": "02ec6fd5",
   "metadata": {},
   "outputs": [
    {
     "data": {
      "text/plain": [
       "array([[5, 0, 3],\n",
       "       [3, 7, 9],\n",
       "       [3, 5, 2],\n",
       "       [4, 7, 6],\n",
       "       [8, 8, 1]])"
      ]
     },
     "execution_count": 83,
     "metadata": {},
     "output_type": "execute_result"
    }
   ],
   "source": [
    "np.random.seed(0)\n",
    "\n",
    "mat1 = np.random.randint(10, size=(5, 3))\n",
    "mat2 = np.random.randint(10, size=(5, 3))\n",
    "\n",
    "mat1"
   ]
  },
  {
   "cell_type": "code",
   "execution_count": 84,
   "id": "74f41c54",
   "metadata": {},
   "outputs": [
    {
     "data": {
      "text/plain": [
       "array([[5, 0, 3],\n",
       "       [3, 7, 9],\n",
       "       [3, 5, 2],\n",
       "       [4, 7, 6],\n",
       "       [8, 8, 1]])"
      ]
     },
     "execution_count": 84,
     "metadata": {},
     "output_type": "execute_result"
    }
   ],
   "source": [
    "mat1"
   ]
  },
  {
   "cell_type": "code",
   "execution_count": 85,
   "id": "0b547a8f",
   "metadata": {},
   "outputs": [
    {
     "data": {
      "text/plain": [
       "((5, 3), (5, 3))"
      ]
     },
     "execution_count": 85,
     "metadata": {},
     "output_type": "execute_result"
    }
   ],
   "source": [
    "mat1.shape, mat2.shape"
   ]
  },
  {
   "cell_type": "code",
   "execution_count": 86,
   "id": "bb700a2a",
   "metadata": {},
   "outputs": [
    {
     "data": {
      "text/plain": [
       "array([[30,  0, 21],\n",
       "       [24,  7, 45],\n",
       "       [27, 40, 18],\n",
       "       [16, 21,  0],\n",
       "       [24, 40,  0]])"
      ]
     },
     "execution_count": 86,
     "metadata": {},
     "output_type": "execute_result"
    }
   ],
   "source": [
    "# Element-wise mutiplication (Handamard product)\n",
    "# https://numpy.org/doc/stable/reference/generated/numpy.multiply.html\n",
    "# https://numpy.org/doc/stable/reference/generated/numpy.dot.html\n",
    "mat1 * mat2"
   ]
  },
  {
   "cell_type": "code",
   "execution_count": 87,
   "id": "08480287",
   "metadata": {},
   "outputs": [
    {
     "data": {
      "text/plain": [
       "array([[6, 7, 7, 8, 1],\n",
       "       [5, 9, 8, 9, 4],\n",
       "       [3, 0, 3, 5, 0]])"
      ]
     },
     "execution_count": 87,
     "metadata": {},
     "output_type": "execute_result"
    }
   ],
   "source": [
    "mat2.reshape(3, 5)"
   ]
  },
  {
   "cell_type": "code",
   "execution_count": 88,
   "id": "25b58a43",
   "metadata": {},
   "outputs": [
    {
     "data": {
      "text/plain": [
       "array([[ 39,  35,  44,  55,   5],\n",
       "       [ 80,  84, 104, 132,  31],\n",
       "       [ 49,  66,  67,  79,  23],\n",
       "       [ 77,  91, 102, 125,  32],\n",
       "       [ 91, 128, 123, 141,  40]])"
      ]
     },
     "execution_count": 88,
     "metadata": {},
     "output_type": "execute_result"
    }
   ],
   "source": [
    "# np.dot(a, b)\n",
    "np.dot(mat1, mat2.reshape(3, 5))"
   ]
  },
  {
   "cell_type": "markdown",
   "id": "1395e724",
   "metadata": {},
   "source": [
    "# Nut-butter sales"
   ]
  },
  {
   "cell_type": "code",
   "execution_count": 89,
   "id": "3a64f13b",
   "metadata": {},
   "outputs": [
    {
     "data": {
      "text/plain": [
       "array([[12, 15,  0],\n",
       "       [ 3,  3,  7],\n",
       "       [ 9, 19, 18],\n",
       "       [ 4,  6, 12],\n",
       "       [ 1,  6,  7]])"
      ]
     },
     "execution_count": 89,
     "metadata": {},
     "output_type": "execute_result"
    }
   ],
   "source": [
    "np.random.seed(0)\n",
    "\n",
    "# Number of jars sold\n",
    "sales_amounts = np.random.randint(20, size = (5, 3))\n",
    "sales_amounts"
   ]
  },
  {
   "cell_type": "code",
   "execution_count": 90,
   "id": "246f7373",
   "metadata": {},
   "outputs": [
    {
     "data": {
      "text/html": [
       "<div>\n",
       "<style scoped>\n",
       "    .dataframe tbody tr th:only-of-type {\n",
       "        vertical-align: middle;\n",
       "    }\n",
       "\n",
       "    .dataframe tbody tr th {\n",
       "        vertical-align: top;\n",
       "    }\n",
       "\n",
       "    .dataframe thead th {\n",
       "        text-align: right;\n",
       "    }\n",
       "</style>\n",
       "<table border=\"1\" class=\"dataframe\">\n",
       "  <thead>\n",
       "    <tr style=\"text-align: right;\">\n",
       "      <th></th>\n",
       "      <th>Almond butter</th>\n",
       "      <th>peanut butter</th>\n",
       "      <th>cashew butter</th>\n",
       "    </tr>\n",
       "  </thead>\n",
       "  <tbody>\n",
       "    <tr>\n",
       "      <th>Mon</th>\n",
       "      <td>12</td>\n",
       "      <td>15</td>\n",
       "      <td>0</td>\n",
       "    </tr>\n",
       "    <tr>\n",
       "      <th>Tue</th>\n",
       "      <td>3</td>\n",
       "      <td>3</td>\n",
       "      <td>7</td>\n",
       "    </tr>\n",
       "    <tr>\n",
       "      <th>Wed</th>\n",
       "      <td>9</td>\n",
       "      <td>19</td>\n",
       "      <td>18</td>\n",
       "    </tr>\n",
       "    <tr>\n",
       "      <th>Thurs</th>\n",
       "      <td>4</td>\n",
       "      <td>6</td>\n",
       "      <td>12</td>\n",
       "    </tr>\n",
       "    <tr>\n",
       "      <th>Frid</th>\n",
       "      <td>1</td>\n",
       "      <td>6</td>\n",
       "      <td>7</td>\n",
       "    </tr>\n",
       "  </tbody>\n",
       "</table>\n",
       "</div>"
      ],
      "text/plain": [
       "       Almond butter  peanut butter  cashew butter\n",
       "Mon               12             15              0\n",
       "Tue                3              3              7\n",
       "Wed                9             19             18\n",
       "Thurs              4              6             12\n",
       "Frid               1              6              7"
      ]
     },
     "execution_count": 90,
     "metadata": {},
     "output_type": "execute_result"
    }
   ],
   "source": [
    "# create weekly_sales DataFrame\n",
    "weekly_sales = pd.DataFrame(sales_amounts,\n",
    "                           index = [\"Mon\", \"Tue\", \"Wed\", \"Thurs\", \"Frid\"],\n",
    "                           columns = [\"Almond butter\", \"peanut butter\", \"cashew butter\"])\n",
    "weekly_sales"
   ]
  },
  {
   "cell_type": "code",
   "execution_count": 91,
   "id": "a1aefcd4",
   "metadata": {},
   "outputs": [
    {
     "data": {
      "text/plain": [
       "(3,)"
      ]
     },
     "execution_count": 91,
     "metadata": {},
     "output_type": "execute_result"
    }
   ],
   "source": [
    "# Create prices array\n",
    "prices = np.array([10, 8, 2])\n",
    "prices\n",
    "prices.shape"
   ]
  },
  {
   "cell_type": "code",
   "execution_count": 92,
   "id": "b2ee5942",
   "metadata": {},
   "outputs": [
    {
     "data": {
      "text/html": [
       "<div>\n",
       "<style scoped>\n",
       "    .dataframe tbody tr th:only-of-type {\n",
       "        vertical-align: middle;\n",
       "    }\n",
       "\n",
       "    .dataframe tbody tr th {\n",
       "        vertical-align: top;\n",
       "    }\n",
       "\n",
       "    .dataframe thead th {\n",
       "        text-align: right;\n",
       "    }\n",
       "</style>\n",
       "<table border=\"1\" class=\"dataframe\">\n",
       "  <thead>\n",
       "    <tr style=\"text-align: right;\">\n",
       "      <th></th>\n",
       "      <th>Almond butter</th>\n",
       "      <th>peanut butter</th>\n",
       "      <th>cashew butter</th>\n",
       "    </tr>\n",
       "  </thead>\n",
       "  <tbody>\n",
       "    <tr>\n",
       "      <th>prices</th>\n",
       "      <td>10</td>\n",
       "      <td>8</td>\n",
       "      <td>2</td>\n",
       "    </tr>\n",
       "  </tbody>\n",
       "</table>\n",
       "</div>"
      ],
      "text/plain": [
       "        Almond butter  peanut butter  cashew butter\n",
       "prices             10              8              2"
      ]
     },
     "execution_count": 92,
     "metadata": {},
     "output_type": "execute_result"
    }
   ],
   "source": [
    "# Create butter prices DataFrame\n",
    "butter_prices = pd.DataFrame(prices.reshape(1,3),\n",
    "                            index = [\"prices\"],\n",
    "                            columns = [\"Almond butter\", \"peanut butter\", \"cashew butter\"])\n",
    "\n",
    "butter_prices"
   ]
  },
  {
   "cell_type": "code",
   "execution_count": 93,
   "id": "2732ffc0",
   "metadata": {},
   "outputs": [
    {
     "data": {
      "text/plain": [
       "(5, 3)"
      ]
     },
     "execution_count": 93,
     "metadata": {},
     "output_type": "execute_result"
    }
   ],
   "source": [
    "sales_amounts.shape"
   ]
  },
  {
   "cell_type": "code",
   "execution_count": 94,
   "id": "abd5425a",
   "metadata": {},
   "outputs": [
    {
     "data": {
      "text/plain": [
       "array([240,  68, 278, 112,  72])"
      ]
     },
     "execution_count": 94,
     "metadata": {},
     "output_type": "execute_result"
    }
   ],
   "source": [
    "total_sales = prices.dot(sales_amounts.T)\n",
    "total_sales"
   ]
  },
  {
   "cell_type": "code",
   "execution_count": 95,
   "id": "998c5b93",
   "metadata": {},
   "outputs": [
    {
     "data": {
      "text/plain": [
       "((1, 3), (5, 3))"
      ]
     },
     "execution_count": 95,
     "metadata": {},
     "output_type": "execute_result"
    }
   ],
   "source": [
    "# create a daily sales\n",
    "butter_prices.shape , weekly_sales.shape"
   ]
  },
  {
   "cell_type": "code",
   "execution_count": 96,
   "id": "8e67a562",
   "metadata": {},
   "outputs": [
    {
     "data": {
      "text/html": [
       "<div>\n",
       "<style scoped>\n",
       "    .dataframe tbody tr th:only-of-type {\n",
       "        vertical-align: middle;\n",
       "    }\n",
       "\n",
       "    .dataframe tbody tr th {\n",
       "        vertical-align: top;\n",
       "    }\n",
       "\n",
       "    .dataframe thead th {\n",
       "        text-align: right;\n",
       "    }\n",
       "</style>\n",
       "<table border=\"1\" class=\"dataframe\">\n",
       "  <thead>\n",
       "    <tr style=\"text-align: right;\">\n",
       "      <th></th>\n",
       "      <th>Mon</th>\n",
       "      <th>Tue</th>\n",
       "      <th>Wed</th>\n",
       "      <th>Thurs</th>\n",
       "      <th>Frid</th>\n",
       "    </tr>\n",
       "  </thead>\n",
       "  <tbody>\n",
       "    <tr>\n",
       "      <th>prices</th>\n",
       "      <td>240</td>\n",
       "      <td>68</td>\n",
       "      <td>278</td>\n",
       "      <td>112</td>\n",
       "      <td>72</td>\n",
       "    </tr>\n",
       "  </tbody>\n",
       "</table>\n",
       "</div>"
      ],
      "text/plain": [
       "        Mon  Tue  Wed  Thurs  Frid\n",
       "prices  240   68  278    112    72"
      ]
     },
     "execution_count": 96,
     "metadata": {},
     "output_type": "execute_result"
    }
   ],
   "source": [
    "daily_sales = butter_prices.dot(weekly_sales.T)\n",
    "daily_sales"
   ]
  },
  {
   "cell_type": "code",
   "execution_count": 97,
   "id": "1db6816e",
   "metadata": {},
   "outputs": [
    {
     "data": {
      "text/html": [
       "<div>\n",
       "<style scoped>\n",
       "    .dataframe tbody tr th:only-of-type {\n",
       "        vertical-align: middle;\n",
       "    }\n",
       "\n",
       "    .dataframe tbody tr th {\n",
       "        vertical-align: top;\n",
       "    }\n",
       "\n",
       "    .dataframe thead th {\n",
       "        text-align: right;\n",
       "    }\n",
       "</style>\n",
       "<table border=\"1\" class=\"dataframe\">\n",
       "  <thead>\n",
       "    <tr style=\"text-align: right;\">\n",
       "      <th></th>\n",
       "      <th>Almond butter</th>\n",
       "      <th>peanut butter</th>\n",
       "      <th>cashew butter</th>\n",
       "    </tr>\n",
       "  </thead>\n",
       "  <tbody>\n",
       "    <tr>\n",
       "      <th>Mon</th>\n",
       "      <td>12</td>\n",
       "      <td>15</td>\n",
       "      <td>0</td>\n",
       "    </tr>\n",
       "    <tr>\n",
       "      <th>Tue</th>\n",
       "      <td>3</td>\n",
       "      <td>3</td>\n",
       "      <td>7</td>\n",
       "    </tr>\n",
       "    <tr>\n",
       "      <th>Wed</th>\n",
       "      <td>9</td>\n",
       "      <td>19</td>\n",
       "      <td>18</td>\n",
       "    </tr>\n",
       "    <tr>\n",
       "      <th>Thurs</th>\n",
       "      <td>4</td>\n",
       "      <td>6</td>\n",
       "      <td>12</td>\n",
       "    </tr>\n",
       "    <tr>\n",
       "      <th>Frid</th>\n",
       "      <td>1</td>\n",
       "      <td>6</td>\n",
       "      <td>7</td>\n",
       "    </tr>\n",
       "  </tbody>\n",
       "</table>\n",
       "</div>"
      ],
      "text/plain": [
       "       Almond butter  peanut butter  cashew butter\n",
       "Mon               12             15              0\n",
       "Tue                3              3              7\n",
       "Wed                9             19             18\n",
       "Thurs              4              6             12\n",
       "Frid               1              6              7"
      ]
     },
     "execution_count": 97,
     "metadata": {},
     "output_type": "execute_result"
    }
   ],
   "source": [
    "weekly_sales"
   ]
  },
  {
   "cell_type": "code",
   "execution_count": 98,
   "id": "ac2a7a2b",
   "metadata": {},
   "outputs": [
    {
     "data": {
      "text/html": [
       "<div>\n",
       "<style scoped>\n",
       "    .dataframe tbody tr th:only-of-type {\n",
       "        vertical-align: middle;\n",
       "    }\n",
       "\n",
       "    .dataframe tbody tr th {\n",
       "        vertical-align: top;\n",
       "    }\n",
       "\n",
       "    .dataframe thead th {\n",
       "        text-align: right;\n",
       "    }\n",
       "</style>\n",
       "<table border=\"1\" class=\"dataframe\">\n",
       "  <thead>\n",
       "    <tr style=\"text-align: right;\">\n",
       "      <th></th>\n",
       "      <th>Almond butter</th>\n",
       "      <th>peanut butter</th>\n",
       "      <th>cashew butter</th>\n",
       "      <th>Total ($)</th>\n",
       "    </tr>\n",
       "  </thead>\n",
       "  <tbody>\n",
       "    <tr>\n",
       "      <th>Mon</th>\n",
       "      <td>12</td>\n",
       "      <td>15</td>\n",
       "      <td>0</td>\n",
       "      <td>240</td>\n",
       "    </tr>\n",
       "    <tr>\n",
       "      <th>Tue</th>\n",
       "      <td>3</td>\n",
       "      <td>3</td>\n",
       "      <td>7</td>\n",
       "      <td>68</td>\n",
       "    </tr>\n",
       "    <tr>\n",
       "      <th>Wed</th>\n",
       "      <td>9</td>\n",
       "      <td>19</td>\n",
       "      <td>18</td>\n",
       "      <td>278</td>\n",
       "    </tr>\n",
       "    <tr>\n",
       "      <th>Thurs</th>\n",
       "      <td>4</td>\n",
       "      <td>6</td>\n",
       "      <td>12</td>\n",
       "      <td>112</td>\n",
       "    </tr>\n",
       "    <tr>\n",
       "      <th>Frid</th>\n",
       "      <td>1</td>\n",
       "      <td>6</td>\n",
       "      <td>7</td>\n",
       "      <td>72</td>\n",
       "    </tr>\n",
       "  </tbody>\n",
       "</table>\n",
       "</div>"
      ],
      "text/plain": [
       "       Almond butter  peanut butter  cashew butter  Total ($)\n",
       "Mon               12             15              0        240\n",
       "Tue                3              3              7         68\n",
       "Wed                9             19             18        278\n",
       "Thurs              4              6             12        112\n",
       "Frid               1              6              7         72"
      ]
     },
     "execution_count": 98,
     "metadata": {},
     "output_type": "execute_result"
    }
   ],
   "source": [
    "weekly_sales[\"Total ($)\"] = daily_sales.T\n",
    "weekly_sales"
   ]
  },
  {
   "cell_type": "markdown",
   "id": "f024e82b",
   "metadata": {},
   "source": [
    "# Comparison Operators"
   ]
  },
  {
   "cell_type": "code",
   "execution_count": 99,
   "id": "32761f5e",
   "metadata": {},
   "outputs": [
    {
     "data": {
      "text/plain": [
       "[1, 2, 4]"
      ]
     },
     "execution_count": 99,
     "metadata": {},
     "output_type": "execute_result"
    }
   ],
   "source": [
    "a1"
   ]
  },
  {
   "cell_type": "code",
   "execution_count": 100,
   "id": "fc4809c3",
   "metadata": {},
   "outputs": [
    {
     "data": {
      "text/plain": [
       "array([[1, 2, 3],\n",
       "       [4, 5, 6]])"
      ]
     },
     "execution_count": 100,
     "metadata": {},
     "output_type": "execute_result"
    }
   ],
   "source": [
    "a2"
   ]
  },
  {
   "cell_type": "code",
   "execution_count": 101,
   "id": "39187099",
   "metadata": {},
   "outputs": [
    {
     "data": {
      "text/plain": [
       "array([[False, False,  True],\n",
       "       [False, False, False]])"
      ]
     },
     "execution_count": 101,
     "metadata": {},
     "output_type": "execute_result"
    }
   ],
   "source": [
    "a1 > a2"
   ]
  },
  {
   "cell_type": "code",
   "execution_count": 102,
   "id": "e8da0320",
   "metadata": {},
   "outputs": [
    {
     "data": {
      "text/plain": [
       "array([[ True,  True,  True],\n",
       "       [False, False, False]])"
      ]
     },
     "execution_count": 102,
     "metadata": {},
     "output_type": "execute_result"
    }
   ],
   "source": [
    "boolean_array = a1 >= a2\n",
    "boolean_array"
   ]
  },
  {
   "cell_type": "code",
   "execution_count": 103,
   "id": "4f6599e3",
   "metadata": {},
   "outputs": [
    {
     "data": {
      "text/plain": [
       "(numpy.ndarray, dtype('bool'))"
      ]
     },
     "execution_count": 103,
     "metadata": {},
     "output_type": "execute_result"
    }
   ],
   "source": [
    "type(boolean_array), boolean_array.dtype"
   ]
  },
  {
   "cell_type": "code",
   "execution_count": 104,
   "id": "a2529a00",
   "metadata": {},
   "outputs": [
    {
     "data": {
      "text/plain": [
       "array([[ True,  True, False],\n",
       "       [False, False, False]])"
      ]
     },
     "execution_count": 104,
     "metadata": {},
     "output_type": "execute_result"
    }
   ],
   "source": [
    "a1 == a2"
   ]
  },
  {
   "cell_type": "code",
   "execution_count": 105,
   "id": "f043758d",
   "metadata": {},
   "outputs": [
    {
     "data": {
      "text/plain": [
       "array([[7, 8, 1, 5, 9],\n",
       "       [8, 9, 4, 3, 0],\n",
       "       [3, 5, 0, 2, 3]])"
      ]
     },
     "execution_count": 105,
     "metadata": {},
     "output_type": "execute_result"
    }
   ],
   "source": [
    "random_array = np.random.randint(10, size = (3, 5))\n",
    "random_array"
   ]
  },
  {
   "cell_type": "code",
   "execution_count": 106,
   "id": "ed4b9336",
   "metadata": {},
   "outputs": [
    {
     "data": {
      "text/plain": [
       "array([[1, 5, 7, 8, 9],\n",
       "       [0, 3, 4, 8, 9],\n",
       "       [0, 2, 3, 3, 5]])"
      ]
     },
     "execution_count": 106,
     "metadata": {},
     "output_type": "execute_result"
    }
   ],
   "source": [
    "np.sort(random_array)"
   ]
  },
  {
   "cell_type": "code",
   "execution_count": 107,
   "id": "aaf50cb6",
   "metadata": {},
   "outputs": [
    {
     "data": {
      "text/plain": [
       "array([[2, 3, 0, 1, 4],\n",
       "       [4, 3, 2, 0, 1],\n",
       "       [2, 3, 0, 4, 1]], dtype=int64)"
      ]
     },
     "execution_count": 107,
     "metadata": {},
     "output_type": "execute_result"
    }
   ],
   "source": [
    "np.argsort(random_array)"
   ]
  },
  {
   "cell_type": "code",
   "execution_count": 108,
   "id": "88cdfac0",
   "metadata": {},
   "outputs": [
    {
     "data": {
      "text/plain": [
       "0"
      ]
     },
     "execution_count": 108,
     "metadata": {},
     "output_type": "execute_result"
    }
   ],
   "source": [
    "np.argmin(a1)"
   ]
  },
  {
   "cell_type": "code",
   "execution_count": 109,
   "id": "877f4bf1",
   "metadata": {},
   "outputs": [
    {
     "data": {
      "text/plain": [
       "array([1, 1, 1, 0, 0], dtype=int64)"
      ]
     },
     "execution_count": 109,
     "metadata": {},
     "output_type": "execute_result"
    }
   ],
   "source": [
    "np.argmax(random_array, axis = 0)"
   ]
  },
  {
   "cell_type": "code",
   "execution_count": 110,
   "id": "c9bdc20e",
   "metadata": {},
   "outputs": [
    {
     "data": {
      "text/plain": [
       "array([4, 1, 1], dtype=int64)"
      ]
     },
     "execution_count": 110,
     "metadata": {},
     "output_type": "execute_result"
    }
   ],
   "source": [
    "np.argmax(random_array, axis = 1)"
   ]
  },
  {
   "cell_type": "markdown",
   "id": "5c35f85b",
   "metadata": {},
   "source": [
    "# 6. Practical Example - Numpy in Action!!!"
   ]
  },
  {
   "cell_type": "code",
   "execution_count": 112,
   "id": "899b84f9",
   "metadata": {},
   "outputs": [
    {
     "name": "stdout",
     "output_type": "stream",
     "text": [
      "<class 'numpy.ndarray'>\n"
     ]
    }
   ],
   "source": [
    "# Turn an image into numpy array\n",
    "from matplotlib.image import imread\n",
    "\n",
    "panda = imread(\"car-photo.png\")\n",
    "print(type(panda))"
   ]
  },
  {
   "cell_type": "code",
   "execution_count": 113,
   "id": "0ac4b70a",
   "metadata": {},
   "outputs": [
    {
     "data": {
      "text/plain": [
       "array([[[0.5019608 , 0.50980395, 0.4862745 , 1.        ],\n",
       "        [0.3372549 , 0.34509805, 0.30588236, 1.        ],\n",
       "        [0.20392157, 0.21568628, 0.14901961, 1.        ],\n",
       "        ...,\n",
       "        [0.64705884, 0.7058824 , 0.54901963, 1.        ],\n",
       "        [0.59607846, 0.63529414, 0.45882353, 1.        ],\n",
       "        [0.44705883, 0.47058824, 0.3372549 , 1.        ]],\n",
       "\n",
       "       [[0.44313726, 0.43529412, 0.40392157, 1.        ],\n",
       "        [0.3137255 , 0.31764707, 0.27450982, 1.        ],\n",
       "        [0.2       , 0.21176471, 0.14117648, 1.        ],\n",
       "        ...,\n",
       "        [0.5058824 , 0.5372549 , 0.4117647 , 1.        ],\n",
       "        [0.49803922, 0.52156866, 0.39607844, 1.        ],\n",
       "        [0.4       , 0.42745098, 0.34117648, 1.        ]]], dtype=float32)"
      ]
     },
     "execution_count": 113,
     "metadata": {},
     "output_type": "execute_result"
    }
   ],
   "source": [
    "panda[:2]"
   ]
  },
  {
   "cell_type": "code",
   "execution_count": 114,
   "id": "26fd3c2d",
   "metadata": {},
   "outputs": [
    {
     "data": {
      "text/plain": [
       "(991300, (431, 575, 4), 3)"
      ]
     },
     "execution_count": 114,
     "metadata": {},
     "output_type": "execute_result"
    }
   ],
   "source": [
    "panda.size, panda.shape, panda.ndim"
   ]
  },
  {
   "cell_type": "code",
   "execution_count": null,
   "id": "d381b82e",
   "metadata": {},
   "outputs": [],
   "source": []
  },
  {
   "cell_type": "code",
   "execution_count": null,
   "id": "2325ec61",
   "metadata": {},
   "outputs": [],
   "source": []
  },
  {
   "cell_type": "code",
   "execution_count": null,
   "id": "03980278",
   "metadata": {},
   "outputs": [],
   "source": []
  },
  {
   "cell_type": "code",
   "execution_count": null,
   "id": "506a8c60",
   "metadata": {},
   "outputs": [],
   "source": []
  },
  {
   "cell_type": "code",
   "execution_count": null,
   "id": "e4d8a8aa",
   "metadata": {},
   "outputs": [],
   "source": []
  },
  {
   "cell_type": "code",
   "execution_count": null,
   "id": "e90f099d",
   "metadata": {},
   "outputs": [],
   "source": []
  },
  {
   "cell_type": "code",
   "execution_count": null,
   "id": "934c38cf",
   "metadata": {},
   "outputs": [],
   "source": []
  },
  {
   "cell_type": "code",
   "execution_count": null,
   "id": "23ee51f9",
   "metadata": {},
   "outputs": [],
   "source": []
  }
 ],
 "metadata": {
  "kernelspec": {
   "display_name": "Python 3 (ipykernel)",
   "language": "python",
   "name": "python3"
  },
  "language_info": {
   "codemirror_mode": {
    "name": "ipython",
    "version": 3
   },
   "file_extension": ".py",
   "mimetype": "text/x-python",
   "name": "python",
   "nbconvert_exporter": "python",
   "pygments_lexer": "ipython3",
   "version": "3.11.3"
  }
 },
 "nbformat": 4,
 "nbformat_minor": 5
}
